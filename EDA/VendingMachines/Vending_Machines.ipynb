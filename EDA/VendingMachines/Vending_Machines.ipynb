{
 "cells": [
  {
   "cell_type": "markdown",
   "metadata": {},
   "source": [
    "### Vending machine sales\n",
    "\n",
    "##### Author: [Alejandro Salmerón](https://www.linkedin.com/in/alejandrosalme/)"
   ]
  },
  {
   "cell_type": "markdown",
   "metadata": {},
   "source": [
    "\n",
    "#### 1. Problem\n",
    "The objective of this project is to contribute to the expansion of the vending machines in New Jersey, by investigating the sales data for potential new locations."
   ]
  },
  {
   "cell_type": "markdown",
   "metadata": {},
   "source": [
    "#### 2. Preamble\n",
    "\n",
    "Traditional expansion plans typically involve a combination of different strategies (Market Research, Feasibility or Business plan). Also, identifying potential locations for the new machines consider factors such as foot traffic, visibility or proximity to competitors. So based on what we find in the data and external search we will try to give some suggestions."
   ]
  },
  {
   "cell_type": "code",
   "execution_count": 5,
   "metadata": {},
   "outputs": [],
   "source": [
    "import pandas as pd\n",
    "import seaborn as sns\n",
    "import matplotlib.pyplot as plt"
   ]
  },
  {
   "cell_type": "markdown",
   "metadata": {},
   "source": [
    "#### 3. Data loading\n",
    "\n",
    "The dataset used represents vending machine data from various locations in Central New Jersey. The locations include a library, a mall, office location and a manufacturing locations."
   ]
  },
  {
   "cell_type": "code",
   "execution_count": 6,
   "metadata": {},
   "outputs": [
    {
     "data": {
      "text/html": [
       "<div>\n",
       "<style scoped>\n",
       "    .dataframe tbody tr th:only-of-type {\n",
       "        vertical-align: middle;\n",
       "    }\n",
       "\n",
       "    .dataframe tbody tr th {\n",
       "        vertical-align: top;\n",
       "    }\n",
       "\n",
       "    .dataframe thead th {\n",
       "        text-align: right;\n",
       "    }\n",
       "</style>\n",
       "<table border=\"1\" class=\"dataframe\">\n",
       "  <thead>\n",
       "    <tr style=\"text-align: right;\">\n",
       "      <th></th>\n",
       "      <th>Status</th>\n",
       "      <th>Device ID</th>\n",
       "      <th>Location</th>\n",
       "      <th>Machine</th>\n",
       "      <th>Product</th>\n",
       "      <th>Category</th>\n",
       "      <th>Transaction</th>\n",
       "      <th>TransDate</th>\n",
       "      <th>Type</th>\n",
       "      <th>RCoil</th>\n",
       "      <th>RPrice</th>\n",
       "      <th>RQty</th>\n",
       "      <th>MCoil</th>\n",
       "      <th>MPrice</th>\n",
       "      <th>MQty</th>\n",
       "      <th>LineTotal</th>\n",
       "      <th>TransTotal</th>\n",
       "      <th>Prcd Date</th>\n",
       "    </tr>\n",
       "  </thead>\n",
       "  <tbody>\n",
       "    <tr>\n",
       "      <th>0</th>\n",
       "      <td>Processed</td>\n",
       "      <td>VJ300320611</td>\n",
       "      <td>Brunswick Sq Mall</td>\n",
       "      <td>BSQ Mall x1366 - ATT</td>\n",
       "      <td>Red Bull - Energy Drink - Sugar Free</td>\n",
       "      <td>Carbonated</td>\n",
       "      <td>14515778905</td>\n",
       "      <td>1/1/2022</td>\n",
       "      <td>Credit</td>\n",
       "      <td>148</td>\n",
       "      <td>3.5</td>\n",
       "      <td>1</td>\n",
       "      <td>148</td>\n",
       "      <td>3.5</td>\n",
       "      <td>1</td>\n",
       "      <td>3.5</td>\n",
       "      <td>3.5</td>\n",
       "      <td>1/1/2022</td>\n",
       "    </tr>\n",
       "    <tr>\n",
       "      <th>1</th>\n",
       "      <td>Processed</td>\n",
       "      <td>VJ300320611</td>\n",
       "      <td>Brunswick Sq Mall</td>\n",
       "      <td>BSQ Mall x1366 - ATT</td>\n",
       "      <td>Red Bull - Energy Drink - Sugar Free</td>\n",
       "      <td>Carbonated</td>\n",
       "      <td>14516018629</td>\n",
       "      <td>1/1/2022</td>\n",
       "      <td>Credit</td>\n",
       "      <td>148</td>\n",
       "      <td>3.5</td>\n",
       "      <td>1</td>\n",
       "      <td>148</td>\n",
       "      <td>3.5</td>\n",
       "      <td>1</td>\n",
       "      <td>3.5</td>\n",
       "      <td>5.0</td>\n",
       "      <td>1/1/2022</td>\n",
       "    </tr>\n",
       "    <tr>\n",
       "      <th>2</th>\n",
       "      <td>Processed</td>\n",
       "      <td>VJ300320611</td>\n",
       "      <td>Brunswick Sq Mall</td>\n",
       "      <td>BSQ Mall x1366 - ATT</td>\n",
       "      <td>Takis - Hot Chilli Pepper &amp; Lime</td>\n",
       "      <td>Food</td>\n",
       "      <td>14516018629</td>\n",
       "      <td>1/1/2022</td>\n",
       "      <td>Credit</td>\n",
       "      <td>123</td>\n",
       "      <td>1.5</td>\n",
       "      <td>1</td>\n",
       "      <td>123</td>\n",
       "      <td>1.5</td>\n",
       "      <td>1</td>\n",
       "      <td>1.5</td>\n",
       "      <td>5.0</td>\n",
       "      <td>1/1/2022</td>\n",
       "    </tr>\n",
       "    <tr>\n",
       "      <th>3</th>\n",
       "      <td>Processed</td>\n",
       "      <td>VJ300320611</td>\n",
       "      <td>Brunswick Sq Mall</td>\n",
       "      <td>BSQ Mall x1366 - ATT</td>\n",
       "      <td>Takis - Hot Chilli Pepper &amp; Lime</td>\n",
       "      <td>Food</td>\n",
       "      <td>14516020373</td>\n",
       "      <td>1/1/2022</td>\n",
       "      <td>Credit</td>\n",
       "      <td>123</td>\n",
       "      <td>1.5</td>\n",
       "      <td>1</td>\n",
       "      <td>123</td>\n",
       "      <td>1.5</td>\n",
       "      <td>1</td>\n",
       "      <td>1.5</td>\n",
       "      <td>1.5</td>\n",
       "      <td>1/1/2022</td>\n",
       "    </tr>\n",
       "    <tr>\n",
       "      <th>4</th>\n",
       "      <td>Processed</td>\n",
       "      <td>VJ300320611</td>\n",
       "      <td>Brunswick Sq Mall</td>\n",
       "      <td>BSQ Mall x1366 - ATT</td>\n",
       "      <td>Red Bull - Energy Drink - Sugar Free</td>\n",
       "      <td>Carbonated</td>\n",
       "      <td>14516021756</td>\n",
       "      <td>1/1/2022</td>\n",
       "      <td>Credit</td>\n",
       "      <td>148</td>\n",
       "      <td>3.5</td>\n",
       "      <td>1</td>\n",
       "      <td>148</td>\n",
       "      <td>3.5</td>\n",
       "      <td>1</td>\n",
       "      <td>3.5</td>\n",
       "      <td>3.5</td>\n",
       "      <td>1/1/2022</td>\n",
       "    </tr>\n",
       "  </tbody>\n",
       "</table>\n",
       "</div>"
      ],
      "text/plain": [
       "      Status    Device ID           Location               Machine  \\\n",
       "0  Processed  VJ300320611  Brunswick Sq Mall  BSQ Mall x1366 - ATT   \n",
       "1  Processed  VJ300320611  Brunswick Sq Mall  BSQ Mall x1366 - ATT   \n",
       "2  Processed  VJ300320611  Brunswick Sq Mall  BSQ Mall x1366 - ATT   \n",
       "3  Processed  VJ300320611  Brunswick Sq Mall  BSQ Mall x1366 - ATT   \n",
       "4  Processed  VJ300320611  Brunswick Sq Mall  BSQ Mall x1366 - ATT   \n",
       "\n",
       "                                Product    Category  Transaction TransDate  \\\n",
       "0  Red Bull - Energy Drink - Sugar Free  Carbonated  14515778905  1/1/2022   \n",
       "1  Red Bull - Energy Drink - Sugar Free  Carbonated  14516018629  1/1/2022   \n",
       "2      Takis - Hot Chilli Pepper & Lime        Food  14516018629  1/1/2022   \n",
       "3      Takis - Hot Chilli Pepper & Lime        Food  14516020373  1/1/2022   \n",
       "4  Red Bull - Energy Drink - Sugar Free  Carbonated  14516021756  1/1/2022   \n",
       "\n",
       "     Type  RCoil  RPrice  RQty  MCoil  MPrice  MQty  LineTotal  TransTotal  \\\n",
       "0  Credit    148     3.5     1    148     3.5     1        3.5         3.5   \n",
       "1  Credit    148     3.5     1    148     3.5     1        3.5         5.0   \n",
       "2  Credit    123     1.5     1    123     1.5     1        1.5         5.0   \n",
       "3  Credit    123     1.5     1    123     1.5     1        1.5         1.5   \n",
       "4  Credit    148     3.5     1    148     3.5     1        3.5         3.5   \n",
       "\n",
       "  Prcd Date  \n",
       "0  1/1/2022  \n",
       "1  1/1/2022  \n",
       "2  1/1/2022  \n",
       "3  1/1/2022  \n",
       "4  1/1/2022  "
      ]
     },
     "execution_count": 6,
     "metadata": {},
     "output_type": "execute_result"
    }
   ],
   "source": [
    "df_raw_sales = pd.read_csv('vending_machine_sales.csv')\n",
    "df_raw_sales.head()"
   ]
  },
  {
   "cell_type": "code",
   "execution_count": 3,
   "metadata": {},
   "outputs": [
    {
     "name": "stdout",
     "output_type": "stream",
     "text": [
      "<class 'pandas.core.frame.DataFrame'>\n",
      "RangeIndex: 9617 entries, 0 to 9616\n",
      "Data columns (total 18 columns):\n",
      " #   Column       Non-Null Count  Dtype  \n",
      "---  ------       --------------  -----  \n",
      " 0   Status       9617 non-null   object \n",
      " 1   Device ID    9617 non-null   object \n",
      " 2   Location     9617 non-null   object \n",
      " 3   Machine      9617 non-null   object \n",
      " 4   Product      9611 non-null   object \n",
      " 5   Category     9350 non-null   object \n",
      " 6   Transaction  9617 non-null   int64  \n",
      " 7   TransDate    9617 non-null   object \n",
      " 8   Type         9617 non-null   object \n",
      " 9   RCoil        9617 non-null   int64  \n",
      " 10  RPrice       9617 non-null   float64\n",
      " 11  RQty         9617 non-null   int64  \n",
      " 12  MCoil        9617 non-null   int64  \n",
      " 13  MPrice       9614 non-null   float64\n",
      " 14  MQty         9617 non-null   int64  \n",
      " 15  LineTotal    9617 non-null   float64\n",
      " 16  TransTotal   9617 non-null   float64\n",
      " 17  Prcd Date    9617 non-null   object \n",
      "dtypes: float64(4), int64(5), object(9)\n",
      "memory usage: 1.3+ MB\n"
     ]
    }
   ],
   "source": [
    "df_raw_sales.info() #9617 sales and some columns with empty values"
   ]
  },
  {
   "cell_type": "markdown",
   "metadata": {},
   "source": [
    "#### 4. Data Wrangling and EDA\n",
    "\n",
    "a. Data overview"
   ]
  },
  {
   "cell_type": "code",
   "execution_count": 4,
   "metadata": {},
   "outputs": [
    {
     "name": "stdout",
     "output_type": "stream",
     "text": [
      "Number of locations: 4\n",
      "Number of vending machines: 5\n",
      "Number of total products: 185\n",
      "Number of categories: 5\n",
      "Number of transactions: 9116\n"
     ]
    }
   ],
   "source": [
    "df_sales = df_raw_sales.copy()\n",
    "\n",
    "print('Number of locations:', len(df_sales.Location.unique()))\n",
    "print('Number of vending machines:', len(df_sales.Machine.unique()))\n",
    "print('Number of total products:', len(df_sales.Product.unique())) #Machines could have more products but not sold (no transaction)\n",
    "print('Number of categories:', len(df_sales.Category.unique()))\n",
    "print('Number of transactions:', len(df_sales.Transaction.unique()))"
   ]
  },
  {
   "cell_type": "markdown",
   "metadata": {},
   "source": [
    "b. First let's check the empty values to see what can we do with them and drop data if necessary"
   ]
  },
  {
   "cell_type": "code",
   "execution_count": 5,
   "metadata": {},
   "outputs": [
    {
     "name": "stdout",
     "output_type": "stream",
     "text": [
      "Columns with null values: ['Product' 'Category' 'MPrice'] \n",
      "\n",
      "Total empty values in Product : 6\n",
      "Total empty values in Category : 267\n",
      "Total empty values in MPrice : 3\n"
     ]
    }
   ],
   "source": [
    "isNa = df_sales.isna().any()\n",
    "isNaValues = isNa[isNa == True].index.values\n",
    "\n",
    "print(\"Columns with null values:\", isNaValues, '\\n')\n",
    "\n",
    "for n in isNaValues:\n",
    "    print(\"Total empty values in\", n, \":\", df_sales.isnull().sum().loc[n])"
   ]
  },
  {
   "cell_type": "code",
   "execution_count": 6,
   "metadata": {},
   "outputs": [
    {
     "data": {
      "text/html": [
       "<div>\n",
       "<style scoped>\n",
       "    .dataframe tbody tr th:only-of-type {\n",
       "        vertical-align: middle;\n",
       "    }\n",
       "\n",
       "    .dataframe tbody tr th {\n",
       "        vertical-align: top;\n",
       "    }\n",
       "\n",
       "    .dataframe thead th {\n",
       "        text-align: right;\n",
       "    }\n",
       "</style>\n",
       "<table border=\"1\" class=\"dataframe\">\n",
       "  <thead>\n",
       "    <tr style=\"text-align: right;\">\n",
       "      <th></th>\n",
       "      <th>Status</th>\n",
       "      <th>Device ID</th>\n",
       "      <th>Location</th>\n",
       "      <th>Machine</th>\n",
       "      <th>Product</th>\n",
       "      <th>Category</th>\n",
       "      <th>Transaction</th>\n",
       "      <th>TransDate</th>\n",
       "      <th>Type</th>\n",
       "      <th>RCoil</th>\n",
       "      <th>RPrice</th>\n",
       "      <th>RQty</th>\n",
       "      <th>MCoil</th>\n",
       "      <th>MPrice</th>\n",
       "      <th>MQty</th>\n",
       "      <th>LineTotal</th>\n",
       "      <th>TransTotal</th>\n",
       "      <th>Prcd Date</th>\n",
       "    </tr>\n",
       "  </thead>\n",
       "  <tbody>\n",
       "    <tr>\n",
       "      <th>1232</th>\n",
       "      <td>Processed</td>\n",
       "      <td>VJ300320692</td>\n",
       "      <td>EB Public Library</td>\n",
       "      <td>EB Public Library x1380</td>\n",
       "      <td>NaN</td>\n",
       "      <td>NaN</td>\n",
       "      <td>14835073327</td>\n",
       "      <td>3/16/2022</td>\n",
       "      <td>Credit</td>\n",
       "      <td>120</td>\n",
       "      <td>2.0</td>\n",
       "      <td>1</td>\n",
       "      <td>120</td>\n",
       "      <td>2.0</td>\n",
       "      <td>1</td>\n",
       "      <td>2.0</td>\n",
       "      <td>2.00</td>\n",
       "      <td>3/30/2022</td>\n",
       "    </tr>\n",
       "    <tr>\n",
       "      <th>1431</th>\n",
       "      <td>Processed</td>\n",
       "      <td>VJ300320692</td>\n",
       "      <td>EB Public Library</td>\n",
       "      <td>EB Public Library x1380</td>\n",
       "      <td>NaN</td>\n",
       "      <td>NaN</td>\n",
       "      <td>14873793590</td>\n",
       "      <td>3/24/2022</td>\n",
       "      <td>Cash</td>\n",
       "      <td>120</td>\n",
       "      <td>2.0</td>\n",
       "      <td>1</td>\n",
       "      <td>120</td>\n",
       "      <td>2.0</td>\n",
       "      <td>1</td>\n",
       "      <td>2.0</td>\n",
       "      <td>2.00</td>\n",
       "      <td>3/30/2022</td>\n",
       "    </tr>\n",
       "    <tr>\n",
       "      <th>1439</th>\n",
       "      <td>Processed</td>\n",
       "      <td>VJ300320692</td>\n",
       "      <td>EB Public Library</td>\n",
       "      <td>EB Public Library x1380</td>\n",
       "      <td>NaN</td>\n",
       "      <td>NaN</td>\n",
       "      <td>14878665903</td>\n",
       "      <td>3/25/2022</td>\n",
       "      <td>Credit</td>\n",
       "      <td>120</td>\n",
       "      <td>2.0</td>\n",
       "      <td>1</td>\n",
       "      <td>120</td>\n",
       "      <td>2.0</td>\n",
       "      <td>1</td>\n",
       "      <td>2.0</td>\n",
       "      <td>3.25</td>\n",
       "      <td>3/30/2022</td>\n",
       "    </tr>\n",
       "    <tr>\n",
       "      <th>5500</th>\n",
       "      <td>Unlinked</td>\n",
       "      <td>VJ300320609</td>\n",
       "      <td>GuttenPlans</td>\n",
       "      <td>GuttenPlans x1367</td>\n",
       "      <td>NaN</td>\n",
       "      <td>NaN</td>\n",
       "      <td>15469028445</td>\n",
       "      <td>8/2/2022</td>\n",
       "      <td>Cash</td>\n",
       "      <td>133</td>\n",
       "      <td>1.5</td>\n",
       "      <td>1</td>\n",
       "      <td>133</td>\n",
       "      <td>NaN</td>\n",
       "      <td>1</td>\n",
       "      <td>1.5</td>\n",
       "      <td>1.50</td>\n",
       "      <td>8/2/2022</td>\n",
       "    </tr>\n",
       "    <tr>\n",
       "      <th>6947</th>\n",
       "      <td>Unlinked</td>\n",
       "      <td>VJ300320609</td>\n",
       "      <td>GuttenPlans</td>\n",
       "      <td>GuttenPlans x1367</td>\n",
       "      <td>NaN</td>\n",
       "      <td>NaN</td>\n",
       "      <td>15690095789</td>\n",
       "      <td>9/19/2022</td>\n",
       "      <td>Cash</td>\n",
       "      <td>133</td>\n",
       "      <td>1.5</td>\n",
       "      <td>1</td>\n",
       "      <td>133</td>\n",
       "      <td>NaN</td>\n",
       "      <td>1</td>\n",
       "      <td>1.5</td>\n",
       "      <td>1.50</td>\n",
       "      <td>9/19/2022</td>\n",
       "    </tr>\n",
       "    <tr>\n",
       "      <th>7460</th>\n",
       "      <td>Unlinked</td>\n",
       "      <td>VJ300320609</td>\n",
       "      <td>GuttenPlans</td>\n",
       "      <td>GuttenPlans x1367</td>\n",
       "      <td>NaN</td>\n",
       "      <td>NaN</td>\n",
       "      <td>15779665847</td>\n",
       "      <td>10/6/2022</td>\n",
       "      <td>Cash</td>\n",
       "      <td>133</td>\n",
       "      <td>1.5</td>\n",
       "      <td>1</td>\n",
       "      <td>133</td>\n",
       "      <td>NaN</td>\n",
       "      <td>1</td>\n",
       "      <td>1.5</td>\n",
       "      <td>1.50</td>\n",
       "      <td>10/6/2022</td>\n",
       "    </tr>\n",
       "  </tbody>\n",
       "</table>\n",
       "</div>"
      ],
      "text/plain": [
       "         Status    Device ID           Location                  Machine  \\\n",
       "1232  Processed  VJ300320692  EB Public Library  EB Public Library x1380   \n",
       "1431  Processed  VJ300320692  EB Public Library  EB Public Library x1380   \n",
       "1439  Processed  VJ300320692  EB Public Library  EB Public Library x1380   \n",
       "5500   Unlinked  VJ300320609        GuttenPlans        GuttenPlans x1367   \n",
       "6947   Unlinked  VJ300320609        GuttenPlans        GuttenPlans x1367   \n",
       "7460   Unlinked  VJ300320609        GuttenPlans        GuttenPlans x1367   \n",
       "\n",
       "     Product Category  Transaction  TransDate    Type  RCoil  RPrice  RQty  \\\n",
       "1232     NaN      NaN  14835073327  3/16/2022  Credit    120     2.0     1   \n",
       "1431     NaN      NaN  14873793590  3/24/2022    Cash    120     2.0     1   \n",
       "1439     NaN      NaN  14878665903  3/25/2022  Credit    120     2.0     1   \n",
       "5500     NaN      NaN  15469028445   8/2/2022    Cash    133     1.5     1   \n",
       "6947     NaN      NaN  15690095789  9/19/2022    Cash    133     1.5     1   \n",
       "7460     NaN      NaN  15779665847  10/6/2022    Cash    133     1.5     1   \n",
       "\n",
       "      MCoil  MPrice  MQty  LineTotal  TransTotal  Prcd Date  \n",
       "1232    120     2.0     1        2.0        2.00  3/30/2022  \n",
       "1431    120     2.0     1        2.0        2.00  3/30/2022  \n",
       "1439    120     2.0     1        2.0        3.25  3/30/2022  \n",
       "5500    133     NaN     1        1.5        1.50   8/2/2022  \n",
       "6947    133     NaN     1        1.5        1.50  9/19/2022  \n",
       "7460    133     NaN     1        1.5        1.50  10/6/2022  "
      ]
     },
     "execution_count": 6,
     "metadata": {},
     "output_type": "execute_result"
    }
   ],
   "source": [
    "df_sales[df_sales.Product.isna()]"
   ]
  },
  {
   "cell_type": "markdown",
   "metadata": {},
   "source": [
    "Some of them don't have Category and MPrice, also their status is 'Unlinked' which means the operation wasn't processed"
   ]
  },
  {
   "cell_type": "code",
   "execution_count": 7,
   "metadata": {},
   "outputs": [],
   "source": [
    "#Remove unkown products\n",
    "df_sales.dropna(subset=['Product'], inplace=True) "
   ]
  },
  {
   "cell_type": "code",
   "execution_count": 8,
   "metadata": {},
   "outputs": [
    {
     "data": {
      "text/plain": [
       "array(['Doritos Dinamita Chile Lemon', 'Doritos Spicy Nacho',\n",
       "       'Mini Chips Ahoy - Go Paks', 'Oreo Mini - Go Paks',\n",
       "       'Teddy Grahams - Go Paks', 'Starbucks Doubleshot Energy - Coffee',\n",
       "       'Canada Dry - Ginger Ale & Lemonde', 'Canada Dry - Ginger Ale'],\n",
       "      dtype=object)"
      ]
     },
     "execution_count": 8,
     "metadata": {},
     "output_type": "execute_result"
    }
   ],
   "source": [
    "df_sales[df_sales.Category.isna()]['Product'].unique() #Product without category"
   ]
  },
  {
   "cell_type": "code",
   "execution_count": 9,
   "metadata": {},
   "outputs": [
    {
     "data": {
      "text/plain": [
       "array(['Carbonated', 'Food', 'Non Carbonated', 'Water', nan], dtype=object)"
      ]
     },
     "execution_count": 9,
     "metadata": {},
     "output_type": "execute_result"
    }
   ],
   "source": [
    "df_sales.Category.unique() #4 unique classes"
   ]
  },
  {
   "cell_type": "markdown",
   "metadata": {},
   "source": [
    "As we only have 4 categories it's easy to know which one correspond to every single product, but to be ensure we can also check if there is other similar products information"
   ]
  },
  {
   "cell_type": "code",
   "execution_count": 10,
   "metadata": {},
   "outputs": [],
   "source": [
    "food = ['Doritos Dinamita Chile Lemon', 'Doritos Spicy Nacho', 'Mini Chips Ahoy - Go Paks', 'Oreo Mini - Go Paks', 'Teddy Grahams - Go Paks']\n",
    "non_carbonated = ['Starbucks Doubleshot Energy - Coffee']\n",
    "carbonated=['Canada Dry - Ginger Ale & Lemonde', 'Canada Dry - Ginger Ale']"
   ]
  },
  {
   "cell_type": "code",
   "execution_count": 11,
   "metadata": {},
   "outputs": [
    {
     "data": {
      "text/plain": [
       "Product     Doritos Famin Hot Nacho\n",
       "Category                       Food\n",
       "Name: 551, dtype: object"
      ]
     },
     "execution_count": 11,
     "metadata": {},
     "output_type": "execute_result"
    }
   ],
   "source": [
    "#Example\n",
    "df_sales[df_sales.Product.str.contains('Doritos')][['Product','Category']].iloc[0] #Check Category from a similar product"
   ]
  },
  {
   "cell_type": "code",
   "execution_count": 12,
   "metadata": {},
   "outputs": [],
   "source": [
    "#Fill missing values\n",
    "from itertools import zip_longest\n",
    "\n",
    "for f, n_c, c in zip_longest(food, non_carbonated, carbonated):\n",
    "    df_sales.loc[df_sales.Product == f, 'Category'] = 'Food'\n",
    "    df_sales.loc[df_sales.Product == n_c, 'Category'] = 'Non Carbonated'\n",
    "    df_sales.loc[df_sales.Product == c, 'Category'] = 'Carbonated'"
   ]
  },
  {
   "cell_type": "code",
   "execution_count": 13,
   "metadata": {},
   "outputs": [
    {
     "data": {
      "text/plain": [
       "Status         False\n",
       "Device ID      False\n",
       "Location       False\n",
       "Machine        False\n",
       "Product        False\n",
       "Category       False\n",
       "Transaction    False\n",
       "TransDate      False\n",
       "Type           False\n",
       "RCoil          False\n",
       "RPrice         False\n",
       "RQty           False\n",
       "MCoil          False\n",
       "MPrice         False\n",
       "MQty           False\n",
       "LineTotal      False\n",
       "TransTotal     False\n",
       "Prcd Date      False\n",
       "dtype: bool"
      ]
     },
     "execution_count": 13,
     "metadata": {},
     "output_type": "execute_result"
    }
   ],
   "source": [
    "df_sales.isna().any() #Complete data"
   ]
  },
  {
   "cell_type": "markdown",
   "metadata": {},
   "source": [
    "We can now drop columns that represents the same and have no information differences. We cannot drop RPrice or RQty because in this case machines support multiple item selection in a single transaction, that's why we also see see differences in the LineTotal value compared to TransTotal value which sums all the transaction item values."
   ]
  },
  {
   "cell_type": "code",
   "execution_count": 14,
   "metadata": {},
   "outputs": [
    {
     "name": "stdout",
     "output_type": "stream",
     "text": [
      "Differences in price vs mapped price:  []\n",
      "Differences in quantity sold vs quantity sold:  []\n",
      "Unprocessed sales:  []\n",
      "Multiple selection operations: \n"
     ]
    },
    {
     "data": {
      "text/html": [
       "<div>\n",
       "<style scoped>\n",
       "    .dataframe tbody tr th:only-of-type {\n",
       "        vertical-align: middle;\n",
       "    }\n",
       "\n",
       "    .dataframe tbody tr th {\n",
       "        vertical-align: top;\n",
       "    }\n",
       "\n",
       "    .dataframe thead th {\n",
       "        text-align: right;\n",
       "    }\n",
       "</style>\n",
       "<table border=\"1\" class=\"dataframe\">\n",
       "  <thead>\n",
       "    <tr style=\"text-align: right;\">\n",
       "      <th></th>\n",
       "      <th>Product</th>\n",
       "      <th>Transaction</th>\n",
       "      <th>RQty</th>\n",
       "    </tr>\n",
       "  </thead>\n",
       "  <tbody>\n",
       "    <tr>\n",
       "      <th>24</th>\n",
       "      <td>KitKat - Crisp Wafers</td>\n",
       "      <td>14522947106</td>\n",
       "      <td>2</td>\n",
       "    </tr>\n",
       "    <tr>\n",
       "      <th>158</th>\n",
       "      <td>Vitamin Water - Ice Cool Blue Lavender</td>\n",
       "      <td>14571239689</td>\n",
       "      <td>2</td>\n",
       "    </tr>\n",
       "    <tr>\n",
       "      <th>195</th>\n",
       "      <td>Miss Vickie's Potato Chip - Sea Salt Original</td>\n",
       "      <td>14578233630</td>\n",
       "      <td>2</td>\n",
       "    </tr>\n",
       "    <tr>\n",
       "      <th>341</th>\n",
       "      <td>Poland Springs Water</td>\n",
       "      <td>14606042702</td>\n",
       "      <td>2</td>\n",
       "    </tr>\n",
       "    <tr>\n",
       "      <th>342</th>\n",
       "      <td>Keto Krisp - Almond Butter</td>\n",
       "      <td>14606049325</td>\n",
       "      <td>2</td>\n",
       "    </tr>\n",
       "  </tbody>\n",
       "</table>\n",
       "</div>"
      ],
      "text/plain": [
       "                                           Product  Transaction  RQty\n",
       "24                           KitKat - Crisp Wafers  14522947106     2\n",
       "158         Vitamin Water - Ice Cool Blue Lavender  14571239689     2\n",
       "195  Miss Vickie's Potato Chip - Sea Salt Original  14578233630     2\n",
       "341                           Poland Springs Water  14606042702     2\n",
       "342                     Keto Krisp - Almond Butter  14606049325     2"
      ]
     },
     "execution_count": 14,
     "metadata": {},
     "output_type": "execute_result"
    }
   ],
   "source": [
    "print('Differences in price vs mapped price: ', df_sales[df_sales.RQty!=df_sales.MQty].values)\n",
    "print('Differences in quantity sold vs quantity sold: ', df_sales[df_sales.RPrice!=df_sales.MPrice].values)\n",
    "print('Unprocessed sales: ', df_sales[df_sales.Status!='Processed'].values)\n",
    "print('Multiple selection operations: ')\n",
    "df_sales[df_sales.RQty!=1].head()[['Product','Transaction', 'RQty']]"
   ]
  },
  {
   "cell_type": "markdown",
   "metadata": {},
   "source": [
    "LineTotal 3$ - TransTotal 5.5 (Sum of transactions)"
   ]
  },
  {
   "cell_type": "code",
   "execution_count": 15,
   "metadata": {},
   "outputs": [
    {
     "data": {
      "text/html": [
       "<div>\n",
       "<style scoped>\n",
       "    .dataframe tbody tr th:only-of-type {\n",
       "        vertical-align: middle;\n",
       "    }\n",
       "\n",
       "    .dataframe tbody tr th {\n",
       "        vertical-align: top;\n",
       "    }\n",
       "\n",
       "    .dataframe thead th {\n",
       "        text-align: right;\n",
       "    }\n",
       "</style>\n",
       "<table border=\"1\" class=\"dataframe\">\n",
       "  <thead>\n",
       "    <tr style=\"text-align: right;\">\n",
       "      <th></th>\n",
       "      <th>Status</th>\n",
       "      <th>Device ID</th>\n",
       "      <th>Location</th>\n",
       "      <th>Machine</th>\n",
       "      <th>Product</th>\n",
       "      <th>Category</th>\n",
       "      <th>Transaction</th>\n",
       "      <th>TransDate</th>\n",
       "      <th>Type</th>\n",
       "      <th>RCoil</th>\n",
       "      <th>RPrice</th>\n",
       "      <th>RQty</th>\n",
       "      <th>MCoil</th>\n",
       "      <th>MPrice</th>\n",
       "      <th>MQty</th>\n",
       "      <th>LineTotal</th>\n",
       "      <th>TransTotal</th>\n",
       "      <th>Prcd Date</th>\n",
       "    </tr>\n",
       "  </thead>\n",
       "  <tbody>\n",
       "    <tr>\n",
       "      <th>195</th>\n",
       "      <td>Processed</td>\n",
       "      <td>VJ300205292</td>\n",
       "      <td>Brunswick Sq Mall</td>\n",
       "      <td>BSQ Mall x1364 - Zales</td>\n",
       "      <td>Miss Vickie's Potato Chip - Sea Salt Original</td>\n",
       "      <td>Food</td>\n",
       "      <td>14578233630</td>\n",
       "      <td>1/17/2022</td>\n",
       "      <td>Credit</td>\n",
       "      <td>114</td>\n",
       "      <td>1.5</td>\n",
       "      <td>2</td>\n",
       "      <td>114</td>\n",
       "      <td>1.5</td>\n",
       "      <td>2</td>\n",
       "      <td>3.0</td>\n",
       "      <td>5.5</td>\n",
       "      <td>1/17/2022</td>\n",
       "    </tr>\n",
       "    <tr>\n",
       "      <th>196</th>\n",
       "      <td>Processed</td>\n",
       "      <td>VJ300205292</td>\n",
       "      <td>Brunswick Sq Mall</td>\n",
       "      <td>BSQ Mall x1364 - Zales</td>\n",
       "      <td>Bai Antioxidant - Zambia Bingcherry</td>\n",
       "      <td>Non Carbonated</td>\n",
       "      <td>14578233630</td>\n",
       "      <td>1/17/2022</td>\n",
       "      <td>Credit</td>\n",
       "      <td>146</td>\n",
       "      <td>2.5</td>\n",
       "      <td>1</td>\n",
       "      <td>146</td>\n",
       "      <td>2.5</td>\n",
       "      <td>1</td>\n",
       "      <td>2.5</td>\n",
       "      <td>5.5</td>\n",
       "      <td>1/17/2022</td>\n",
       "    </tr>\n",
       "  </tbody>\n",
       "</table>\n",
       "</div>"
      ],
      "text/plain": [
       "        Status    Device ID           Location                 Machine  \\\n",
       "195  Processed  VJ300205292  Brunswick Sq Mall  BSQ Mall x1364 - Zales   \n",
       "196  Processed  VJ300205292  Brunswick Sq Mall  BSQ Mall x1364 - Zales   \n",
       "\n",
       "                                           Product        Category  \\\n",
       "195  Miss Vickie's Potato Chip - Sea Salt Original            Food   \n",
       "196            Bai Antioxidant - Zambia Bingcherry  Non Carbonated   \n",
       "\n",
       "     Transaction  TransDate    Type  RCoil  RPrice  RQty  MCoil  MPrice  MQty  \\\n",
       "195  14578233630  1/17/2022  Credit    114     1.5     2    114     1.5     2   \n",
       "196  14578233630  1/17/2022  Credit    146     2.5     1    146     2.5     1   \n",
       "\n",
       "     LineTotal  TransTotal  Prcd Date  \n",
       "195        3.0         5.5  1/17/2022  \n",
       "196        2.5         5.5  1/17/2022  "
      ]
     },
     "execution_count": 15,
     "metadata": {},
     "output_type": "execute_result"
    }
   ],
   "source": [
    "df_sales[df_sales.Transaction==14578233630]"
   ]
  },
  {
   "cell_type": "code",
   "execution_count": 16,
   "metadata": {},
   "outputs": [],
   "source": [
    "df_sales.drop(columns={\"Status\", \"Device ID\", \"MPrice\", \"MQty\", \"RCoil\", \"MCoil\", \"Prcd Date\"}, inplace=True) #drop columns"
   ]
  },
  {
   "cell_type": "code",
   "execution_count": 17,
   "metadata": {},
   "outputs": [
    {
     "data": {
      "text/html": [
       "<div>\n",
       "<style scoped>\n",
       "    .dataframe tbody tr th:only-of-type {\n",
       "        vertical-align: middle;\n",
       "    }\n",
       "\n",
       "    .dataframe tbody tr th {\n",
       "        vertical-align: top;\n",
       "    }\n",
       "\n",
       "    .dataframe thead th {\n",
       "        text-align: right;\n",
       "    }\n",
       "</style>\n",
       "<table border=\"1\" class=\"dataframe\">\n",
       "  <thead>\n",
       "    <tr style=\"text-align: right;\">\n",
       "      <th></th>\n",
       "      <th>Location</th>\n",
       "      <th>Machine</th>\n",
       "      <th>Product</th>\n",
       "      <th>Category</th>\n",
       "      <th>Transaction</th>\n",
       "      <th>TransDate</th>\n",
       "      <th>Type</th>\n",
       "      <th>RPrice</th>\n",
       "      <th>RQty</th>\n",
       "      <th>LineTotal</th>\n",
       "      <th>TransTotal</th>\n",
       "    </tr>\n",
       "  </thead>\n",
       "  <tbody>\n",
       "    <tr>\n",
       "      <th>0</th>\n",
       "      <td>Brunswick Sq Mall</td>\n",
       "      <td>BSQ Mall x1366 - ATT</td>\n",
       "      <td>Red Bull - Energy Drink - Sugar Free</td>\n",
       "      <td>Carbonated</td>\n",
       "      <td>14515778905</td>\n",
       "      <td>1/1/2022</td>\n",
       "      <td>Credit</td>\n",
       "      <td>3.5</td>\n",
       "      <td>1</td>\n",
       "      <td>3.5</td>\n",
       "      <td>3.5</td>\n",
       "    </tr>\n",
       "    <tr>\n",
       "      <th>1</th>\n",
       "      <td>Brunswick Sq Mall</td>\n",
       "      <td>BSQ Mall x1366 - ATT</td>\n",
       "      <td>Red Bull - Energy Drink - Sugar Free</td>\n",
       "      <td>Carbonated</td>\n",
       "      <td>14516018629</td>\n",
       "      <td>1/1/2022</td>\n",
       "      <td>Credit</td>\n",
       "      <td>3.5</td>\n",
       "      <td>1</td>\n",
       "      <td>3.5</td>\n",
       "      <td>5.0</td>\n",
       "    </tr>\n",
       "    <tr>\n",
       "      <th>2</th>\n",
       "      <td>Brunswick Sq Mall</td>\n",
       "      <td>BSQ Mall x1366 - ATT</td>\n",
       "      <td>Takis - Hot Chilli Pepper &amp; Lime</td>\n",
       "      <td>Food</td>\n",
       "      <td>14516018629</td>\n",
       "      <td>1/1/2022</td>\n",
       "      <td>Credit</td>\n",
       "      <td>1.5</td>\n",
       "      <td>1</td>\n",
       "      <td>1.5</td>\n",
       "      <td>5.0</td>\n",
       "    </tr>\n",
       "    <tr>\n",
       "      <th>3</th>\n",
       "      <td>Brunswick Sq Mall</td>\n",
       "      <td>BSQ Mall x1366 - ATT</td>\n",
       "      <td>Takis - Hot Chilli Pepper &amp; Lime</td>\n",
       "      <td>Food</td>\n",
       "      <td>14516020373</td>\n",
       "      <td>1/1/2022</td>\n",
       "      <td>Credit</td>\n",
       "      <td>1.5</td>\n",
       "      <td>1</td>\n",
       "      <td>1.5</td>\n",
       "      <td>1.5</td>\n",
       "    </tr>\n",
       "    <tr>\n",
       "      <th>4</th>\n",
       "      <td>Brunswick Sq Mall</td>\n",
       "      <td>BSQ Mall x1366 - ATT</td>\n",
       "      <td>Red Bull - Energy Drink - Sugar Free</td>\n",
       "      <td>Carbonated</td>\n",
       "      <td>14516021756</td>\n",
       "      <td>1/1/2022</td>\n",
       "      <td>Credit</td>\n",
       "      <td>3.5</td>\n",
       "      <td>1</td>\n",
       "      <td>3.5</td>\n",
       "      <td>3.5</td>\n",
       "    </tr>\n",
       "  </tbody>\n",
       "</table>\n",
       "</div>"
      ],
      "text/plain": [
       "            Location               Machine  \\\n",
       "0  Brunswick Sq Mall  BSQ Mall x1366 - ATT   \n",
       "1  Brunswick Sq Mall  BSQ Mall x1366 - ATT   \n",
       "2  Brunswick Sq Mall  BSQ Mall x1366 - ATT   \n",
       "3  Brunswick Sq Mall  BSQ Mall x1366 - ATT   \n",
       "4  Brunswick Sq Mall  BSQ Mall x1366 - ATT   \n",
       "\n",
       "                                Product    Category  Transaction TransDate  \\\n",
       "0  Red Bull - Energy Drink - Sugar Free  Carbonated  14515778905  1/1/2022   \n",
       "1  Red Bull - Energy Drink - Sugar Free  Carbonated  14516018629  1/1/2022   \n",
       "2      Takis - Hot Chilli Pepper & Lime        Food  14516018629  1/1/2022   \n",
       "3      Takis - Hot Chilli Pepper & Lime        Food  14516020373  1/1/2022   \n",
       "4  Red Bull - Energy Drink - Sugar Free  Carbonated  14516021756  1/1/2022   \n",
       "\n",
       "     Type  RPrice  RQty  LineTotal  TransTotal  \n",
       "0  Credit     3.5     1        3.5         3.5  \n",
       "1  Credit     3.5     1        3.5         5.0  \n",
       "2  Credit     1.5     1        1.5         5.0  \n",
       "3  Credit     1.5     1        1.5         1.5  \n",
       "4  Credit     3.5     1        3.5         3.5  "
      ]
     },
     "execution_count": 17,
     "metadata": {},
     "output_type": "execute_result"
    }
   ],
   "source": [
    "df_sales.head()"
   ]
  },
  {
   "cell_type": "markdown",
   "metadata": {},
   "source": [
    "c. Check the time span of the data, clean symbols and rename columns"
   ]
  },
  {
   "cell_type": "code",
   "execution_count": 18,
   "metadata": {},
   "outputs": [],
   "source": [
    "df_sales.TransDate = pd.to_datetime(df_sales.TransDate) #Convert to datetime"
   ]
  },
  {
   "cell_type": "code",
   "execution_count": 19,
   "metadata": {},
   "outputs": [
    {
     "name": "stdout",
     "output_type": "stream",
     "text": [
      "Data from years:  [2022]\n",
      "Data from months:  [ 1  2  3  4  5  6  7  8  9 10 11 12]\n"
     ]
    }
   ],
   "source": [
    "print('Data from years: ', df_sales.TransDate.dt.year.unique())\n",
    "print('Data from months: ', df_sales.TransDate.dt.month.unique())"
   ]
  },
  {
   "cell_type": "code",
   "execution_count": 20,
   "metadata": {},
   "outputs": [],
   "source": [
    "df_sales.Machine = df_sales.Machine.str.replace(r'x\\d+\\s-\\s', '', regex=True) #Clean\n",
    "df_sales.Product = df_sales.Product.str.replace(r'-\\s', '', regex=True)\n",
    "df_sales.Transaction = df_sales.Transaction.astype(str)"
   ]
  },
  {
   "cell_type": "code",
   "execution_count": 21,
   "metadata": {},
   "outputs": [],
   "source": [
    "df_sales.rename(columns={\"RPrice\": \"Price\", \"RQty\": \"Quantity\"}, inplace=True)"
   ]
  },
  {
   "cell_type": "code",
   "execution_count": 22,
   "metadata": {},
   "outputs": [
    {
     "data": {
      "text/html": [
       "<div>\n",
       "<style scoped>\n",
       "    .dataframe tbody tr th:only-of-type {\n",
       "        vertical-align: middle;\n",
       "    }\n",
       "\n",
       "    .dataframe tbody tr th {\n",
       "        vertical-align: top;\n",
       "    }\n",
       "\n",
       "    .dataframe thead th {\n",
       "        text-align: right;\n",
       "    }\n",
       "</style>\n",
       "<table border=\"1\" class=\"dataframe\">\n",
       "  <thead>\n",
       "    <tr style=\"text-align: right;\">\n",
       "      <th></th>\n",
       "      <th>Location</th>\n",
       "      <th>Machine</th>\n",
       "      <th>Product</th>\n",
       "      <th>Category</th>\n",
       "      <th>Transaction</th>\n",
       "      <th>TransDate</th>\n",
       "      <th>Type</th>\n",
       "      <th>Price</th>\n",
       "      <th>Quantity</th>\n",
       "      <th>LineTotal</th>\n",
       "      <th>TransTotal</th>\n",
       "    </tr>\n",
       "  </thead>\n",
       "  <tbody>\n",
       "    <tr>\n",
       "      <th>0</th>\n",
       "      <td>Brunswick Sq Mall</td>\n",
       "      <td>BSQ Mall ATT</td>\n",
       "      <td>Red Bull Energy Drink Sugar Free</td>\n",
       "      <td>Carbonated</td>\n",
       "      <td>14515778905</td>\n",
       "      <td>2022-01-01</td>\n",
       "      <td>Credit</td>\n",
       "      <td>3.5</td>\n",
       "      <td>1</td>\n",
       "      <td>3.5</td>\n",
       "      <td>3.5</td>\n",
       "    </tr>\n",
       "    <tr>\n",
       "      <th>1</th>\n",
       "      <td>Brunswick Sq Mall</td>\n",
       "      <td>BSQ Mall ATT</td>\n",
       "      <td>Red Bull Energy Drink Sugar Free</td>\n",
       "      <td>Carbonated</td>\n",
       "      <td>14516018629</td>\n",
       "      <td>2022-01-01</td>\n",
       "      <td>Credit</td>\n",
       "      <td>3.5</td>\n",
       "      <td>1</td>\n",
       "      <td>3.5</td>\n",
       "      <td>5.0</td>\n",
       "    </tr>\n",
       "    <tr>\n",
       "      <th>2</th>\n",
       "      <td>Brunswick Sq Mall</td>\n",
       "      <td>BSQ Mall ATT</td>\n",
       "      <td>Takis Hot Chilli Pepper &amp; Lime</td>\n",
       "      <td>Food</td>\n",
       "      <td>14516018629</td>\n",
       "      <td>2022-01-01</td>\n",
       "      <td>Credit</td>\n",
       "      <td>1.5</td>\n",
       "      <td>1</td>\n",
       "      <td>1.5</td>\n",
       "      <td>5.0</td>\n",
       "    </tr>\n",
       "    <tr>\n",
       "      <th>3</th>\n",
       "      <td>Brunswick Sq Mall</td>\n",
       "      <td>BSQ Mall ATT</td>\n",
       "      <td>Takis Hot Chilli Pepper &amp; Lime</td>\n",
       "      <td>Food</td>\n",
       "      <td>14516020373</td>\n",
       "      <td>2022-01-01</td>\n",
       "      <td>Credit</td>\n",
       "      <td>1.5</td>\n",
       "      <td>1</td>\n",
       "      <td>1.5</td>\n",
       "      <td>1.5</td>\n",
       "    </tr>\n",
       "    <tr>\n",
       "      <th>4</th>\n",
       "      <td>Brunswick Sq Mall</td>\n",
       "      <td>BSQ Mall ATT</td>\n",
       "      <td>Red Bull Energy Drink Sugar Free</td>\n",
       "      <td>Carbonated</td>\n",
       "      <td>14516021756</td>\n",
       "      <td>2022-01-01</td>\n",
       "      <td>Credit</td>\n",
       "      <td>3.5</td>\n",
       "      <td>1</td>\n",
       "      <td>3.5</td>\n",
       "      <td>3.5</td>\n",
       "    </tr>\n",
       "  </tbody>\n",
       "</table>\n",
       "</div>"
      ],
      "text/plain": [
       "            Location       Machine                           Product  \\\n",
       "0  Brunswick Sq Mall  BSQ Mall ATT  Red Bull Energy Drink Sugar Free   \n",
       "1  Brunswick Sq Mall  BSQ Mall ATT  Red Bull Energy Drink Sugar Free   \n",
       "2  Brunswick Sq Mall  BSQ Mall ATT    Takis Hot Chilli Pepper & Lime   \n",
       "3  Brunswick Sq Mall  BSQ Mall ATT    Takis Hot Chilli Pepper & Lime   \n",
       "4  Brunswick Sq Mall  BSQ Mall ATT  Red Bull Energy Drink Sugar Free   \n",
       "\n",
       "     Category  Transaction  TransDate    Type  Price  Quantity  LineTotal  \\\n",
       "0  Carbonated  14515778905 2022-01-01  Credit    3.5         1        3.5   \n",
       "1  Carbonated  14516018629 2022-01-01  Credit    3.5         1        3.5   \n",
       "2        Food  14516018629 2022-01-01  Credit    1.5         1        1.5   \n",
       "3        Food  14516020373 2022-01-01  Credit    1.5         1        1.5   \n",
       "4  Carbonated  14516021756 2022-01-01  Credit    3.5         1        3.5   \n",
       "\n",
       "   TransTotal  \n",
       "0         3.5  \n",
       "1         5.0  \n",
       "2         5.0  \n",
       "3         1.5  \n",
       "4         3.5  "
      ]
     },
     "execution_count": 22,
     "metadata": {},
     "output_type": "execute_result"
    }
   ],
   "source": [
    "df_sales.head()"
   ]
  },
  {
   "cell_type": "markdown",
   "metadata": {},
   "source": [
    "d. Understanding and exploring the data\n",
    "\n",
    "First thing that we see is that there aren't really expensive products, in average the consumed product price is near 2$, people use to buy only one product and the mayority (75%) of the product prices are under 2.5$"
   ]
  },
  {
   "cell_type": "code",
   "execution_count": 23,
   "metadata": {},
   "outputs": [
    {
     "data": {
      "text/html": [
       "<div>\n",
       "<style scoped>\n",
       "    .dataframe tbody tr th:only-of-type {\n",
       "        vertical-align: middle;\n",
       "    }\n",
       "\n",
       "    .dataframe tbody tr th {\n",
       "        vertical-align: top;\n",
       "    }\n",
       "\n",
       "    .dataframe thead th {\n",
       "        text-align: right;\n",
       "    }\n",
       "</style>\n",
       "<table border=\"1\" class=\"dataframe\">\n",
       "  <thead>\n",
       "    <tr style=\"text-align: right;\">\n",
       "      <th></th>\n",
       "      <th>Price</th>\n",
       "      <th>Quantity</th>\n",
       "      <th>LineTotal</th>\n",
       "      <th>TransTotal</th>\n",
       "    </tr>\n",
       "  </thead>\n",
       "  <tbody>\n",
       "    <tr>\n",
       "      <th>mean</th>\n",
       "      <td>1.958381</td>\n",
       "      <td>1.014775</td>\n",
       "      <td>1.985667</td>\n",
       "      <td>2.220633</td>\n",
       "    </tr>\n",
       "    <tr>\n",
       "      <th>std</th>\n",
       "      <td>0.698778</td>\n",
       "      <td>0.127369</td>\n",
       "      <td>0.744427</td>\n",
       "      <td>1.084731</td>\n",
       "    </tr>\n",
       "    <tr>\n",
       "      <th>min</th>\n",
       "      <td>1.000000</td>\n",
       "      <td>1.000000</td>\n",
       "      <td>1.000000</td>\n",
       "      <td>1.000000</td>\n",
       "    </tr>\n",
       "    <tr>\n",
       "      <th>25%</th>\n",
       "      <td>1.500000</td>\n",
       "      <td>1.000000</td>\n",
       "      <td>1.500000</td>\n",
       "      <td>1.500000</td>\n",
       "    </tr>\n",
       "    <tr>\n",
       "      <th>50%</th>\n",
       "      <td>1.500000</td>\n",
       "      <td>1.000000</td>\n",
       "      <td>1.500000</td>\n",
       "      <td>2.000000</td>\n",
       "    </tr>\n",
       "    <tr>\n",
       "      <th>75%</th>\n",
       "      <td>2.500000</td>\n",
       "      <td>1.000000</td>\n",
       "      <td>2.500000</td>\n",
       "      <td>2.750000</td>\n",
       "    </tr>\n",
       "    <tr>\n",
       "      <th>max</th>\n",
       "      <td>5.000000</td>\n",
       "      <td>3.000000</td>\n",
       "      <td>8.000000</td>\n",
       "      <td>9.000000</td>\n",
       "    </tr>\n",
       "  </tbody>\n",
       "</table>\n",
       "</div>"
      ],
      "text/plain": [
       "         Price  Quantity  LineTotal  TransTotal\n",
       "mean  1.958381  1.014775   1.985667    2.220633\n",
       "std   0.698778  0.127369   0.744427    1.084731\n",
       "min   1.000000  1.000000   1.000000    1.000000\n",
       "25%   1.500000  1.000000   1.500000    1.500000\n",
       "50%   1.500000  1.000000   1.500000    2.000000\n",
       "75%   2.500000  1.000000   2.500000    2.750000\n",
       "max   5.000000  3.000000   8.000000    9.000000"
      ]
     },
     "execution_count": 23,
     "metadata": {},
     "output_type": "execute_result"
    }
   ],
   "source": [
    "df_sales.describe().iloc[1:]"
   ]
  },
  {
   "cell_type": "markdown",
   "metadata": {},
   "source": [
    "If we look at the product prices per category, in average drinks have the higher prices. With non-carbonated products on the top followed by carbonated ones, water and lastly food"
   ]
  },
  {
   "cell_type": "code",
   "execution_count": 24,
   "metadata": {},
   "outputs": [
    {
     "data": {
      "text/plain": [
       "Category\n",
       "Carbonated        2.106335\n",
       "Food              1.781644\n",
       "Non Carbonated    2.624046\n",
       "Water             1.821918\n",
       "Name: Price, dtype: float64"
      ]
     },
     "execution_count": 24,
     "metadata": {},
     "output_type": "execute_result"
    }
   ],
   "source": [
    "df_sales.groupby('Category')['Price'].mean()"
   ]
  },
  {
   "cell_type": "markdown",
   "metadata": {},
   "source": [
    "In general more than half of the purchases are from food products. While from drinks, carbonated ones are the most seleccted choice"
   ]
  },
  {
   "cell_type": "code",
   "execution_count": 25,
   "metadata": {},
   "outputs": [
    {
     "data": {
      "text/plain": [
       "Food              57.0\n",
       "Carbonated        25.0\n",
       "Non Carbonated    11.0\n",
       "Water              7.0\n",
       "Name: Category, dtype: float64"
      ]
     },
     "execution_count": 25,
     "metadata": {},
     "output_type": "execute_result"
    }
   ],
   "source": [
    "round(df_sales.Category.value_counts().div(len(df_sales)),2)*100"
   ]
  },
  {
   "cell_type": "markdown",
   "metadata": {},
   "source": [
    "Foot-traffic\n",
    "\n",
    "Weekly, EB Public Library and GuttenPlans vending machines sells an average of 75 and 70 products each. Far surpassing the rest."
   ]
  },
  {
   "cell_type": "code",
   "execution_count": 26,
   "metadata": {},
   "outputs": [
    {
     "data": {
      "text/plain": [
       "Machine\n",
       "BSQ Mall ATT               15.075472\n",
       "BSQ Mall Zales             17.735849\n",
       "EB Public Library x1380    75.642857\n",
       "Earle Asphalt x1371        19.884615\n",
       "GuttenPlans x1367          70.403846\n",
       "Name: Transaction, dtype: float64"
      ]
     },
     "execution_count": 26,
     "metadata": {},
     "output_type": "execute_result"
    }
   ],
   "source": [
    "weekly_foot_traffic = df_sales.set_index('TransDate')\n",
    "weekly_foot_traffic = weekly_foot_traffic.groupby('Machine')['Transaction'].resample('W').count()\n",
    "weekly_foot_traffic = weekly_foot_traffic.reset_index()\n",
    "weekly_foot_traffic.groupby('Machine')['Transaction'].mean()"
   ]
  },
  {
   "cell_type": "markdown",
   "metadata": {},
   "source": [
    "d. Visualizing the data\n",
    "\n",
    "Let's remember that the locations are a library (EB Public Library), a mall (Brunswick), an office (Earle Asphalt) and a manufacturing company (GuttenPlans). \n",
    "\n",
    "The library and the manufacturing company are the ones with more products sells providing the most economic benefit as we see in the plots. One remarkable thing is that even though the library vending machine got less transactions than the company machine (3177 vs 3661), the total benefits from it are close to the ones from the manufacturing company machine (6827$ vs 7001$)\n",
    "\n",
    "Also, there are two vending machines in the mall location and even being busy place, total transactions and revenue are about a half compared to the library machine. The office location is the less profitable machine with a bit more than 1000 sales."
   ]
  },
  {
   "cell_type": "code",
   "execution_count": 27,
   "metadata": {},
   "outputs": [],
   "source": [
    "def set_bar_label(ax):\n",
    "    for i in ax.containers:\n",
    "        ax.bar_label(i,)\n",
    "\n",
    "def draw_barplot(x, y, hue, data, title):\n",
    "    ax=sns.barplot(x=x,\n",
    "                    y=y,\n",
    "                    hue=hue,\n",
    "                    data=data,\n",
    "                    palette='muted',\n",
    "                    estimator='sum')\n",
    "    ax.set_title(title)\n",
    "    set_bar_label(ax)"
   ]
  },
  {
   "cell_type": "code",
   "execution_count": 28,
   "metadata": {},
   "outputs": [
    {
     "data": {
      "image/png": "[encoded data removed]",
      "text/plain": [
       "<Figure size 1200x500 with 2 Axes>"
      ]
     },
     "metadata": {},
     "output_type": "display_data"
    }
   ],
   "source": [
    "fig, (ax1, ax2) = plt.subplots(1, 2, figsize=(12, 5))\n",
    "\n",
    "plt.subplot(1, 2, 1)\n",
    "draw_barplot(x='Quantity', y='Location', hue=None,data=df_sales, title='Total product sales per location')\n",
    "\n",
    "plt.subplot(1, 2, 2)  \n",
    "draw_barplot(x='LineTotal', y='Location', hue=None, data=df_sales,title='Total revenue per location ($)')\n",
    "\n",
    "plt.tight_layout()"
   ]
  },
  {
   "cell_type": "code",
   "execution_count": 29,
   "metadata": {},
   "outputs": [
    {
     "name": "stdout",
     "output_type": "stream",
     "text": [
      "Raw profit: 19084.25 $\n"
     ]
    }
   ],
   "source": [
    "print('Raw profit:', df_sales.LineTotal.sum(), '$')"
   ]
  },
  {
   "cell_type": "markdown",
   "metadata": {},
   "source": [
    "e. Trends analysis\n",
    "\n",
    "- Product tendency\n",
    "\n",
    "    Understanding product type tendencies is crucial, for example, to effectively stock inventory or tail the product offerings to meet the preferences and demands of the clients\n",
    "\n",
    "    Visualizing sells from the categories of each location we see that food is the best-selling product in all of them which was expected according to the percentages seen previously. \n",
    "\n",
    "    Surprisingly, only in the manufacturing company vending machine carbonated drinks are sold in a total quantity close to the food products (1529 vs 1814). It is generaly assumed that in places such as a library where students expend so many hours and need to be focused, this types of drink products are consumed in a higher way but this is not the case and snacks are prefered."
   ]
  },
  {
   "cell_type": "code",
   "execution_count": 30,
   "metadata": {},
   "outputs": [
    {
     "data": {
      "image/png": "[encoded data removed]",
      "text/plain": [
       "<Figure size 640x480 with 1 Axes>"
      ]
     },
     "metadata": {},
     "output_type": "display_data"
    }
   ],
   "source": [
    "draw_barplot(x='Location', y='Quantity', hue='Category', data=df_sales, title='Category of products sells by location')"
   ]
  },
  {
   "cell_type": "markdown",
   "metadata": {},
   "source": [
    "Unlike the vending machine at the mall, not many drinks are consumed at the office vending machine. If we take a look at the products consumed, we identify that in all the most consumed products there is a type of healthy trend. Additionally, compared to the rest of the locations, the amount of carbonated (6) and non-carbonated (4) products available is less."
   ]
  },
  {
   "cell_type": "code",
   "execution_count": 31,
   "metadata": {},
   "outputs": [
    {
     "data": {
      "text/html": [
       "<div>\n",
       "<style scoped>\n",
       "    .dataframe tbody tr th:only-of-type {\n",
       "        vertical-align: middle;\n",
       "    }\n",
       "\n",
       "    .dataframe tbody tr th {\n",
       "        vertical-align: top;\n",
       "    }\n",
       "\n",
       "    .dataframe thead th {\n",
       "        text-align: right;\n",
       "    }\n",
       "</style>\n",
       "<table border=\"1\" class=\"dataframe\">\n",
       "  <thead>\n",
       "    <tr style=\"text-align: right;\">\n",
       "      <th></th>\n",
       "      <th>unique</th>\n",
       "      <th>top</th>\n",
       "      <th>freq</th>\n",
       "    </tr>\n",
       "    <tr>\n",
       "      <th>Category</th>\n",
       "      <th></th>\n",
       "      <th></th>\n",
       "      <th></th>\n",
       "    </tr>\n",
       "  </thead>\n",
       "  <tbody>\n",
       "    <tr>\n",
       "      <th>Carbonated</th>\n",
       "      <td>6</td>\n",
       "      <td>Coca Cola Zero Sugar</td>\n",
       "      <td>17</td>\n",
       "    </tr>\n",
       "    <tr>\n",
       "      <th>Non Carbonated</th>\n",
       "      <td>4</td>\n",
       "      <td>Snapple Diet Tea Lemon</td>\n",
       "      <td>20</td>\n",
       "    </tr>\n",
       "    <tr>\n",
       "      <th>Water</th>\n",
       "      <td>4</td>\n",
       "      <td>BodyArmor LYTE  Peach Mango</td>\n",
       "      <td>5</td>\n",
       "    </tr>\n",
       "  </tbody>\n",
       "</table>\n",
       "</div>"
      ],
      "text/plain": [
       "               unique                          top freq\n",
       "Category                                               \n",
       "Carbonated          6         Coca Cola Zero Sugar   17\n",
       "Non Carbonated      4       Snapple Diet Tea Lemon   20\n",
       "Water               4  BodyArmor LYTE  Peach Mango    5"
      ]
     },
     "execution_count": 31,
     "metadata": {},
     "output_type": "execute_result"
    }
   ],
   "source": [
    "df_sales[(df_sales.Category!='Food') & (df_sales.Location=='Earle Asphalt')].groupby('Category')['Product'].describe().iloc[:, 1:]"
   ]
  },
  {
   "cell_type": "code",
   "execution_count": 32,
   "metadata": {},
   "outputs": [
    {
     "data": {
      "text/plain": [
       "Category        Location         \n",
       "Carbonated      Brunswick Sq Mall    14\n",
       "                EB Public Library     9\n",
       "                GuttenPlans           6\n",
       "Non Carbonated  Brunswick Sq Mall    16\n",
       "                EB Public Library    15\n",
       "                GuttenPlans           8\n",
       "Water           Brunswick Sq Mall    10\n",
       "                EB Public Library     4\n",
       "Name: Product, dtype: int64"
      ]
     },
     "execution_count": 32,
     "metadata": {},
     "output_type": "execute_result"
    }
   ],
   "source": [
    "df_sales[(df_sales.Category!='Food') & (df_sales.Location!='Earle Asphalt')].groupby(list({'Location', 'Category'}))['Product'].nunique()"
   ]
  },
  {
   "cell_type": "markdown",
   "metadata": {},
   "source": [
    "Other thing to mention based on the plot is that there are no water bottle sells in the manufacturing company vending machine, it is rare that in a year not a single person buys a bottle of water. This is posible but also removing water bottles may have been a past decission took by the enterprise based on the sells. So could be that the machine don't have this type of product or, for example, coils with it do not work well which should be something to inform."
   ]
  },
  {
   "cell_type": "code",
   "execution_count": 33,
   "metadata": {},
   "outputs": [
    {
     "name": "stdout",
     "output_type": "stream",
     "text": [
      "Water products in GuttenPlans: 0\n"
     ]
    }
   ],
   "source": [
    "print('Water products in GuttenPlans:', len(df_sales.Product[(df_sales.Category=='Water') & (df_sales.Location=='GuttenPlans')].unique()))"
   ]
  },
  {
   "cell_type": "markdown",
   "metadata": {},
   "source": [
    "We can easily check from the original data which coils are used  for water in each machine. The ones used are: [142, 143, 144, 145, 147, 148]\n",
    "\n",
    "Now let's check if GuttenPlans machine use this coils for other products or they don't appear in any transaction which may be a clue in case coils were not well working"
   ]
  },
  {
   "cell_type": "code",
   "execution_count": 34,
   "metadata": {},
   "outputs": [
    {
     "data": {
      "text/plain": [
       "Machine\n",
       "BSQ Mall x1364 - Zales     [147, 142, 144, 145]\n",
       "BSQ Mall x1366 - ATT       [143, 142, 147, 145]\n",
       "EB Public Library x1380              [144, 147]\n",
       "Earle Asphalt x1371        [148, 143, 144, 147]\n",
       "Name: RCoil, dtype: object"
      ]
     },
     "execution_count": 34,
     "metadata": {},
     "output_type": "execute_result"
    }
   ],
   "source": [
    "df_raw_sales[df_raw_sales.Category=='Water'].groupby('Machine')['RCoil'].unique()"
   ]
  },
  {
   "cell_type": "markdown",
   "metadata": {},
   "source": [
    "At least we are sure that this coils are used and seems to be no problem of this type"
   ]
  },
  {
   "cell_type": "code",
   "execution_count": 35,
   "metadata": {},
   "outputs": [
    {
     "name": "stdout",
     "output_type": "stream",
     "text": [
      "Coil: 142  --- Category: ['Carbonated']\n",
      "Coil: 143  --- Category: ['Non Carbonated']\n",
      "Coil: 144  --- Category: ['Carbonated']\n",
      "Coil: 145  --- Category: ['Non Carbonated']\n",
      "Coil: 147  --- Category: ['Non Carbonated']\n",
      "Coil: 148  --- Category: ['Carbonated']\n"
     ]
    }
   ],
   "source": [
    "water_coils=[142, 143, 144, 145, 147, 148]\n",
    "for w_c in water_coils:\n",
    "    print('Coil:', w_c, ' --- Category:', df_raw_sales[(df_raw_sales.Location=='GuttenPlans') & (df_raw_sales.RCoil==w_c)]['Category'].unique())"
   ]
  },
  {
   "cell_type": "markdown",
   "metadata": {},
   "source": [
    "- Payment type tendency\n",
    "\n",
    "    Understanding payment type tendencies let us optimize payment processes, ensure customer satisfaction, and choose the right payment processing systems. \n",
    "\n",
    "    Reviewing it by location we see that cash remains the preferred payment type compared to credit card. In the mall, the office and the manufacturing company for more than half of the payments it is used cash. Being only in the library where the percentages are close to 50/50 for each type. \n",
    "\n",
    "    In general, places like libraries are more visited by young people, in offices and companies workers are older while malls the visitors age range is wider. Assuming that, we identify that for older people cash keeps being the prefered payment type as we see in this locations, but it's reduced for younger people.\n",
    "\n",
    "    Both systems are still necessary as there is no clear preference, thus allowing us to adjust to the user's preferences."
   ]
  },
  {
   "cell_type": "code",
   "execution_count": 36,
   "metadata": {},
   "outputs": [],
   "source": [
    "def draw_payment_type(location):\n",
    "    ax = df_sales[df_sales.Location==location].groupby('Type')['Transaction'].count().plot.pie(autopct='%1.1f%%')\n",
    "    ax.axis('equal')\n",
    "    ax.set_xlabel('')\n",
    "    ax. set_ylabel('')\n",
    "    ax.set_title(location, fontsize=10)\n",
    "    return ax"
   ]
  },
  {
   "cell_type": "code",
   "execution_count": 37,
   "metadata": {},
   "outputs": [
    {
     "data": {
      "image/png": "[encoded data removed]",
      "text/plain": [
       "<Figure size 600x600 with 4 Axes>"
      ]
     },
     "metadata": {},
     "output_type": "display_data"
    }
   ],
   "source": [
    "fig, (ax1, ax2, ax3, ax4) = plt.subplots(1, 4, figsize=(6, 6))\n",
    "\n",
    "for i, l in enumerate(df_sales.Location.unique()):\n",
    "    plt.subplot(2, 2, i+1)\n",
    "    ax=draw_payment_type(l)\n",
    "    set_bar_label(ax)\n",
    "\n",
    "fig.suptitle('Payment type trend per location\\n', fontsize=10)       \n",
    "plt.show()"
   ]
  },
  {
   "cell_type": "markdown",
   "metadata": {},
   "source": [
    "- Sales tendency\n",
    "\n",
    "Will helps us understanding factors affecting sales performance, and guides strategies for growth and profitability\n",
    "\n",
    "If we compare the total revenue of each machine per month we see that GuttenPlans is achieving more than 400$ in the first four months, but in April, the library vending machine get close in profits, jumping from 200$ March benefit to 600$ in April. Value that keeps increasing from May to June (peak benefit) while the opposite happens to the manufacturing vending machine in this two months. Next four months (July, August, September and October) are well performing months for the library vending machine, reaching near 800$ each month, while GuttenPlans suffer a constant decrement on sales from July to December, having a minimal increment in November.\n",
    "\n",
    "Another remarkable thing about the library vending machine that we saw in the plot is that there are no transactions in January and February and even with that is one with the most profitability. Which is what are we searching for\n",
    "\n",
    "Regarding to the less profitable vending machines the mayority of the months the benefits are under 200$, only suprased in June and July by one of the mall vending machines (Zales). "
   ]
  },
  {
   "cell_type": "code",
   "execution_count": 38,
   "metadata": {},
   "outputs": [
    {
     "data": {
      "image/png": "[encoded data removed]",
      "text/plain": [
       "<Figure size 1500x500 with 1 Axes>"
      ]
     },
     "metadata": {},
     "output_type": "display_data"
    }
   ],
   "source": [
    "fig = plt.figure(figsize= (15,5))\n",
    "\n",
    "ax = sns.lineplot(data=df_sales, x=df_sales.TransDate.dt.month_name(), y=\"LineTotal\", hue=\"Machine\", estimator=\"sum\", marker=\"o\")"
   ]
  },
  {
   "cell_type": "markdown",
   "metadata": {},
   "source": [
    "Between the two mall vending machines there's no really a huge benefit difference"
   ]
  },
  {
   "cell_type": "code",
   "execution_count": 39,
   "metadata": {},
   "outputs": [
    {
     "data": {
      "text/plain": [
       "Machine\n",
       "BSQ Mall ATT      1670.75\n",
       "BSQ Mall Zales    1757.25\n",
       "Name: LineTotal, dtype: float64"
      ]
     },
     "execution_count": 39,
     "metadata": {},
     "output_type": "execute_result"
    }
   ],
   "source": [
    "df_sales[df_sales.Machine.str.contains('BSQ Mall')].groupby('Machine')['LineTotal'].sum()"
   ]
  },
  {
   "cell_type": "markdown",
   "metadata": {},
   "source": [
    "#### 5. Suggestions to the problem posed\n",
    "\n",
    "Based on the analysis, it is evident that the vending machine located in the library is the most profitable among the four. As we saw, this come attributed to factors such as high foot traffic, a wide product selection choice, and a location where users potentially stay longer periods. Which increases the likelihood of purchases.\n",
    "\n",
    "Considering these insights and doing an external search, we found information in this [post](https://eu.mycentraljersey.com/story/news/local/middlesex-county/2018/01/26/east-brunswick-public-library-cuts-operating-hours/1069289001/) that says that in 2017, 348.000 visitors came to EB Public library.\n",
    "\n",
    "This is a great number, and considering similar types of locations in New Jersey we found a 2016 [article](https://www.njspotlightnews.org/2016/06/16-06-27-the-list-by-the-numbers-new-jersey-s-busiest-public-libraries/) with the most visited New Jersey State libraries. Being the top 5: \n",
    "1. Ocean County Library, Toms River: 2,504,362 visitors\n",
    "2. Somerset County Library, Bridgewater: 1,750,223 visitors\n",
    "3. Mercer County Library, Lawrenceville: 1,404,589 visitors\n",
    "4. Monmouth County Library, Manalapan: 1,321,868 visitors\n",
    "5. Burlington County Library, Westampton: 1,107,694 visitors\n",
    "\n",
    "Considering that the number of visitors in those locations are quite biger and libraries may be the most promising locations for expansion. It is recommended to consider expanding the vending machine business by strategically placing more machines in locations with similar characteristics to the library. Locations with high foot traffic, a steady flow of potential customers, and a suitable environment for vending machine with similar product offerings should be prioritized.\n",
    "\n",
    "Also it could be an idea to remove or reduce vending machines in less profitable locations like the Mall.\n",
    "\n",
    "Furthermore, it is advised to conduct a thorough market research and feasibility study in potential locations to ensure they align with the desired success attributes. This will help mitigate risks and increase the likelihood of success in the expansion endeavor. "
   ]
  }
 ],
 "metadata": {
  "kernelspec": {
   "display_name": "py39",
   "language": "python",
   "name": "python3"
  },
  "language_info": {
   "codemirror_mode": {
    "name": "ipython",
    "version": 3
   },
   "file_extension": ".py",
   "mimetype": "text/x-python",
   "name": "python",
   "nbconvert_exporter": "python",
   "pygments_lexer": "ipython3",
   "version": "3.9.18"
  },
  "orig_nbformat": 4
 },
 "nbformat": 4,
 "nbformat_minor": 2
}
